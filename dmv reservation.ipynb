{
 "cells": [
  {
   "cell_type": "code",
   "execution_count": 1,
   "id": "f1b9c3c7",
   "metadata": {},
   "outputs": [],
   "source": [
    "import yagmail\n",
    "from selenium import webdriver"
   ]
  },
  {
   "cell_type": "code",
   "execution_count": 2,
   "id": "bc9f21f0",
   "metadata": {},
   "outputs": [
    {
     "name": "stderr",
     "output_type": "stream",
     "text": [
      "/var/folders/nw/q8c9lcfd38qg_8hw2py9hw840000gn/T/ipykernel_10516/2882622521.py:4: DeprecationWarning: find_element_by_class_name is deprecated. Please use find_element(by=By.CLASS_NAME, value=name) instead\n",
      "  icdt = driver.find_element_by_class_name(\"DataControlBtn\")\n",
      "/var/folders/nw/q8c9lcfd38qg_8hw2py9hw840000gn/T/ipykernel_10516/2882622521.py:8: DeprecationWarning: find_element_by_class_name is deprecated. Please use find_element(by=By.CLASS_NAME, value=name) instead\n",
      "  aica = driver.find_element_by_class_name(\"DataControlBtn\")\n",
      "/var/folders/nw/q8c9lcfd38qg_8hw2py9hw840000gn/T/ipykernel_10516/2882622521.py:13: DeprecationWarning: find_elements_by_class_name is deprecated. Please use find_elements(by=By.CLASS_NAME, value=name) instead\n",
      "  locations = driver.find_elements_by_class_name(\"DataControlBtnUnit\")\n"
     ]
    }
   ],
   "source": [
    "driver = webdriver.Chrome()\n",
    "driver.get('https://ilsosappt.cxmflow.com/Appointment/Index/dbe30824-497b-4325-8c5f-68b146a5e898')\n",
    "#click \"In Car Driving Test\"\n",
    "icdt = driver.find_element_by_class_name(\"DataControlBtn\")\n",
    "icdt.click()\n",
    "#click \"Advance In-Car Appointments\"\n",
    "driver.get('https://ilsosappt.cxmflow.com/Appointment/Index/dbe30824-497b-4325-8c5f-68b146a5e898')\n",
    "aica = driver.find_element_by_class_name(\"DataControlBtn\")\n",
    "aica.click()\n",
    "\n",
    "#check all shown locations\n",
    "driver.get('https://ilsosappt.cxmflow.com/Appointment/Index/dbe30824-497b-4325-8c5f-68b146a5e898')\n",
    "locations = driver.find_elements_by_class_name(\"DataControlBtnUnit\")"
   ]
  },
  {
   "cell_type": "code",
   "execution_count": 3,
   "id": "5bd55371",
   "metadata": {},
   "outputs": [
    {
     "name": "stdout",
     "output_type": "stream",
     "text": [
      "FOUND IT!\n"
     ]
    },
    {
     "name": "stderr",
     "output_type": "stream",
     "text": [
      "/Users/dan/miniforge3/lib/python3.9/site-packages/selenium/webdriver/remote/webelement.py:464: UserWarning: find_elements_by_class_name is deprecated. Please use find_elements(by=By.CLASS_NAME, value=name) instead\n",
      "  warnings.warn(\"find_elements_by_class_name is deprecated. Please use find_elements(by=By.CLASS_NAME, value=name) instead\")\n"
     ]
    }
   ],
   "source": [
    "for location in locations:\n",
    "    dmv = location.find_elements_by_class_name(\"center-textDiv\")[0]\n",
    "    if dmv.text.split(\"\\n\")[0] == \"Chicago West\":\n",
    "        print(\"FOUND IT!\")"
   ]
  },
  {
   "cell_type": "code",
   "execution_count": 4,
   "id": "dea8872f",
   "metadata": {},
   "outputs": [
    {
     "data": {
      "text/plain": [
       "{}"
      ]
     },
     "execution_count": 4,
     "metadata": {},
     "output_type": "execute_result"
    }
   ],
   "source": [
    "receiver = \"danyang2023@u.northwestern.edu\"\n",
    "body = \"Chicago North opened up: 'https://ilsosappt.cxmflow.com/Appointment/Index/dbe30824-497b-4325-8c5f-68b146a5e898'\"\n",
    "\n",
    "yag = yagmail.SMTP('ddysideacc@gmail.com', oauth2_file=\"~/Downloads/oauth2_creds.json\")\n",
    "yag.send(\n",
    "    to=receiver,\n",
    "    subject=\"DMV Appointment Found\",\n",
    "    contents=body, \n",
    ")"
   ]
  },
  {
   "cell_type": "code",
   "execution_count": null,
   "id": "dc5237a3",
   "metadata": {},
   "outputs": [],
   "source": []
  },
  {
   "cell_type": "code",
   "execution_count": null,
   "id": "c77caf4f",
   "metadata": {},
   "outputs": [],
   "source": []
  }
 ],
 "metadata": {
  "kernelspec": {
   "display_name": "Python 3 (ipykernel)",
   "language": "python",
   "name": "python3"
  },
  "language_info": {
   "codemirror_mode": {
    "name": "ipython",
    "version": 3
   },
   "file_extension": ".py",
   "mimetype": "text/x-python",
   "name": "python",
   "nbconvert_exporter": "python",
   "pygments_lexer": "ipython3",
   "version": "3.9.7"
  }
 },
 "nbformat": 4,
 "nbformat_minor": 5
}
